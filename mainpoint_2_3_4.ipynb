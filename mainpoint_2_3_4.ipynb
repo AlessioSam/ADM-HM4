{
 "cells": [
  {
   "cell_type": "markdown",
   "metadata": {},
   "source": [
    "# 2. Alphabetical Sort"
   ]
  },
  {
   "cell_type": "code",
   "execution_count": 39,
   "metadata": {},
   "outputs": [],
   "source": [
    "import matplotlib.pyplot as plt\n",
    "import time\n",
    "import numpy as np"
   ]
  },
  {
   "cell_type": "markdown",
   "metadata": {},
   "source": [
    "### Counting sort"
   ]
  },
  {
   "cell_type": "markdown",
   "metadata": {},
   "source": [
    "This function gives in input an array of integers and returns the sorted array and the order of them."
   ]
  },
  {
   "cell_type": "code",
   "execution_count": 2,
   "metadata": {},
   "outputs": [],
   "source": [
    "def counting_sort(array):\n",
    "    aux_array = [0]*1000 # make auxilary array of size 1000, we suppose the ordinal are between 0 and 999, however it can be any range\n",
    "    order = [0]*len(array)\n",
    "    # calculate the frequencies \n",
    "    for i in array:\n",
    "        aux_array[i] += 1\n",
    "    # calculate the cumulative values of the frequencies\n",
    "    for i in range(1,len(aux_array)):\n",
    "        aux_array[i] += aux_array[i-1]\n",
    "    sorted_array = [None]*len(array)\n",
    "    # put tha values in array to sorted array on the right position and store the order\n",
    "    for j,i in enumerate(array):\n",
    "        order[aux_array[i]-1] = j\n",
    "        sorted_array[aux_array[i]-1] = i\n",
    "        aux_array[i] += -1\n",
    "    return sorted_array, order"
   ]
  },
  {
   "cell_type": "code",
   "execution_count": 3,
   "metadata": {},
   "outputs": [
    {
     "data": {
      "text/plain": [
       "([0, 1, 2, 3, 6, 9], [5, 4, 3, 0, 1, 2])"
      ]
     },
     "execution_count": 3,
     "metadata": {},
     "output_type": "execute_result"
    }
   ],
   "source": [
    "counting_sort([3,6,9,2,1,0])"
   ]
  },
  {
   "cell_type": "markdown",
   "metadata": {},
   "source": [
    "### Counting sort for letters\n"
   ]
  },
  {
   "cell_type": "markdown",
   "metadata": {},
   "source": [
    "This function gives in input an array of letters and returns them in alphabetical order."
   ]
  },
  {
   "cell_type": "code",
   "execution_count": 24,
   "metadata": {},
   "outputs": [],
   "source": [
    "def counting_sort_alpha(arr):\n",
    "    \n",
    "    count=[ 0 for i in range(256)] #fill counter with zeros 256 index because we are using ord\n",
    "    alpha_=['' for _ in arr] # to fill the ordered letters \n",
    "    \n",
    "    for a in arr:\n",
    "        count[ord(a)] += 1 # count occurrence of each character and fill Corresponding ord index with letter counter\n",
    "        #print(count)\n",
    "        #print(\"==================================================\")\n",
    "    \n",
    "    for i in range(len(count)): \n",
    "        count[i] = count[i] + count[i-1] #put each letter in its actual Position the count[i] \n",
    "        \n",
    "        #print(count)\n",
    "    #print(\"==================================================\")\n",
    "        \n",
    "    for i in range(len(arr)): # for each index number from above minus 1 put the letter in the index number       \n",
    "        count[count[ord(arr[i])]-1] = arr[i] \n",
    "        count[ord(arr[i])] -= 1\n",
    "        \n",
    "        #print(count)\n",
    "    #print(\"==================================================\")\n",
    "    for i in range(len(arr)): \n",
    "        alpha_[i] = count[i] \n",
    "        #print(count[i] )\n",
    "    return (print(alpha_ , end=\"\"))"
   ]
  },
  {
   "cell_type": "code",
   "execution_count": 25,
   "metadata": {
    "scrolled": true
   },
   "outputs": [
    {
     "name": "stdout",
     "output_type": "stream",
     "text": [
      "['a', 'b', 'c', 'd', 'e', 'f', 'g', 'h', 'i', 'k', 'l', 'm', 'n', 'o', 'p', 'q', 'r', 's', 't', 'u', 'v', 'w', 'x', 'y', 'z']"
     ]
    }
   ],
   "source": [
    "counting_sort_alpha(['z','y','x','w','v','u','t','s','r','q','p','o','n','m','l','k','i','h','g','f','e','d','c','b','a'])"
   ]
  },
  {
   "cell_type": "markdown",
   "metadata": {},
   "source": [
    "### Running time for Counting Sort for letters"
   ]
  },
  {
   "cell_type": "markdown",
   "metadata": {},
   "source": [
    "#### Theoretical"
   ]
  },
  {
   "cell_type": "markdown",
   "metadata": {},
   "source": [
    "The counting sort alpha is basically 3 for-loops. The first and third loops look at the entire array of letters and positions them in a certain position. The second loop is only concerned with putting each letter in its actual position the count[i]. Then first and third we will have a complexity of O (n), for the second O (k). Adding these values ​​we will have that the complexity will be O (n + k).\n"
   ]
  },
  {
   "cell_type": "markdown",
   "metadata": {},
   "source": [
    "#### Empirical"
   ]
  },
  {
   "cell_type": "code",
   "execution_count": 102,
   "metadata": {},
   "outputs": [],
   "source": [
    "def plot_count_sort():    \n",
    "    time_tot = list()\n",
    "    # change m from 10 to 100000 with steps of 10000\n",
    "    for m in range(10,100000,10000):\n",
    "        time_ = list()\n",
    "        let = np.random.randint(ord('A'), ord('z')+1, m)\n",
    "        start = time.time()\n",
    "        sorted_words_list = counting_sort(let) # same thing of counting_sort_alpha\n",
    "        end_time = time.time()\n",
    "        time_.append(end_time - start)\n",
    "        time_tot.append(sum(time_))\n",
    "   #PLOT\n",
    "    fig = plt.figure(figsize=(16,4))\n",
    "    plt.plot(range(10,100000,10000),time_tot)\n",
    "    plt.xlabel('Letter lenght')\n",
    "    plt.ylabel('Running time (secs)')\n",
    "    plt.title('Running time for counting sort')     "
   ]
  },
  {
   "cell_type": "code",
   "execution_count": 108,
   "metadata": {},
   "outputs": [
    {
     "data": {
      "image/png": "[encoded data removed]",
      "text/plain": [
       "<Figure size 1152x288 with 1 Axes>"
      ]
     },
     "metadata": {
      "needs_background": "light"
     },
     "output_type": "display_data"
    }
   ],
   "source": [
    "plot_count_sort()"
   ]
  },
  {
   "cell_type": "markdown",
   "metadata": {},
   "source": [
    "As we can observe the complexity is linear"
   ]
  },
  {
   "cell_type": "markdown",
   "metadata": {},
   "source": [
    "### Alphabetical sort based on counting sort"
   ]
  },
  {
   "cell_type": "markdown",
   "metadata": {},
   "source": [
    "The goal is to sort an array of strings alphabetically.\n",
    "What we will do first is to create a matrix containing for each position a value that corresponds to a letter.\n",
    "Then we will order this matrix starting from the first column to the last one.\n",
    "We must be careful NOT to reorder the columns already ordered because in that case we could remix."
   ]
  },
  {
   "cell_type": "markdown",
   "metadata": {},
   "source": [
    "We need to convert all letter of our words in number and store them in a matrix to compare them."
   ]
  },
  {
   "cell_type": "code",
   "execution_count": 76,
   "metadata": {},
   "outputs": [],
   "source": [
    "def create_matrix(words):  \n",
    "    \n",
    "    m = max(map(len, words))\n",
    "    n = len(words)\n",
    "    arrays = np.zeros((n, m+1), dtype=int)\n",
    "    arrays[:,-1] = range(n)\n",
    "    for i,word in enumerate(words):\n",
    "        arrays[i,range(len(word))] = list(map(ord, word.lower()))\n",
    "        \n",
    "    return arrays"
   ]
  },
  {
   "cell_type": "markdown",
   "metadata": {},
   "source": [
    "Given an ordered array, if there is 2 or more equal value, merge them in a 'group'"
   ]
  },
  {
   "cell_type": "code",
   "execution_count": 137,
   "metadata": {},
   "outputs": [],
   "source": [
    "import numpy as np"
   ]
  },
  {
   "cell_type": "code",
   "execution_count": 77,
   "metadata": {},
   "outputs": [],
   "source": [
    "def make_group(array, index):\n",
    "    problem_list = list()\n",
    "    problem = [index[0]]\n",
    "    for i in range(1,len(array)):\n",
    "        if array[i] == array[i-1]:\n",
    "            problem.append(index[i])\n",
    "        else:\n",
    "            problem_list.append(problem)\n",
    "            problem = [index[i]]\n",
    "    problem_list.append(problem)\n",
    "    return problem_list\n"
   ]
  },
  {
   "cell_type": "code",
   "execution_count": 138,
   "metadata": {},
   "outputs": [
    {
     "data": {
      "text/plain": [
       "[[5], [4, 3], [0], [1], [2]]"
      ]
     },
     "execution_count": 138,
     "metadata": {},
     "output_type": "execute_result"
    }
   ],
   "source": [
    "make_group([0, 1, 1, 3, 6, 9], [5, 4, 3, 0, 1, 2])"
   ]
  },
  {
   "cell_type": "markdown",
   "metadata": {},
   "source": [
    "Now you need to see how many equal values there are for each 'column'. \n",
    "If it is one it means that the value is in the correct position, if it is not so, then we apply the previous function to those 'column' and we'll order them.\n",
    "This is a recursive function becouse if there are further equal values after those found then I call the function and I also order and concaten them.\n"
   ]
  },
  {
   "cell_type": "code",
   "execution_count": 78,
   "metadata": {},
   "outputs": [],
   "source": [
    "def sort_eq_col(arrays, i):\n",
    "    \n",
    "    if arrays.shape[0] == 1:\n",
    "        return arrays\n",
    "    else:\n",
    "        # reorder equal columns (splitted by 'group') \n",
    "        sorted_array, order = counting_sort(arrays[:,i])\n",
    "        arrays = arrays[order,:]\n",
    "        \n",
    "        if (i+1) < arrays.shape[1] :\n",
    "            list_groups = make_group(sorted_array,list(range(arrays.shape[0])))\n",
    "            list_array = list()\n",
    "            for problem in list_groups:\n",
    "                list_array.append(sort_eq_col(arrays[problem,:], i+1))\n",
    "            arrays = np.concatenate(list_array, axis = 0)\n",
    "        return arrays"
   ]
  },
  {
   "cell_type": "markdown",
   "metadata": {},
   "source": [
    "#### Finally we have our function"
   ]
  },
  {
   "cell_type": "markdown",
   "metadata": {},
   "source": [
    "Sort words in alphabetical order"
   ]
  },
  {
   "cell_type": "code",
   "execution_count": 79,
   "metadata": {},
   "outputs": [],
   "source": [
    "def alpha_counting_sort():\n",
    "    words=list(map(str,input(\"Enter words: \").split()))\n",
    "    arrays = create_matrix(words)\n",
    "   \n",
    "    sorted_array = sort_eq_col(arrays, 0)\n",
    "    order = list(map(int, sorted_array[:,-1]))\n",
    "    return([words[i] for i in order])"
   ]
  },
  {
   "cell_type": "code",
   "execution_count": 80,
   "metadata": {},
   "outputs": [
    {
     "name": "stdout",
     "output_type": "stream",
     "text": [
      "Enter words: ciao hello english italian Roma Rome\n",
      "['ciao', 'english', 'hello', 'italian', 'Roma', 'Rome']\n"
     ]
    }
   ],
   "source": [
    "sorted_words_list = alpha_counting_sort()\n",
    "print(sorted_words_list)"
   ]
  },
  {
   "cell_type": "markdown",
   "metadata": {},
   "source": [
    "### Running Time for alphabetical sort"
   ]
  },
  {
   "cell_type": "markdown",
   "metadata": {},
   "source": [
    "#### Theoretical"
   ]
  },
  {
   "cell_type": "markdown",
   "metadata": {},
   "source": [
    "This algorithm was implemented through a recursive function. In particular, putting the words 'one above the other', when there are two identical letters on the same 'column', a group of letters to be ordered is created and the function is called.\n",
    "The worst case occurs if the words are all the same so we have to call the function L times, ie the word length.\n",
    "So, since the counting sort algorithm has a running time of O (k + n), we have to repeat this L times.\n",
    "So for this algorithm the complexity will be O(Lk + Ln)."
   ]
  },
  {
   "cell_type": "markdown",
   "metadata": {},
   "source": [
    "#### Empirical"
   ]
  },
  {
   "cell_type": "markdown",
   "metadata": {},
   "source": [
    "\n",
    "Adjustment to the algorithm that first took the words that the user wrote, now the words are already present in an external array."
   ]
  },
  {
   "cell_type": "code",
   "execution_count": 87,
   "metadata": {},
   "outputs": [],
   "source": [
    "def alpha_counting_sortC(words):\n",
    "    arrays = create_matrix(words)\n",
    "    sorted_array = sort_eq_col(arrays, 0)\n",
    "    order = list(map(int, sorted_array[:,-1]))\n",
    "    return([words[i] for i in order])"
   ]
  },
  {
   "cell_type": "code",
   "execution_count": 99,
   "metadata": {},
   "outputs": [],
   "source": [
    "chr_vec = np.vectorize(chr)\n",
    "def plot_alpha_sort():\n",
    "    # we need to fix the number of words\n",
    "    m = 50\n",
    "    time_tot = list()\n",
    "    # change n from 10 to 10000 with steps of 1000\n",
    "    for n in range(10,10000,1000):\n",
    "        time_ = list()\n",
    "        \n",
    "        ordinals_list = np.random.randint(ord('A'), ord('z')+1, (m,n))\n",
    "        chr_lists = chr_vec(ordinals_list)\n",
    "        words_list = list()\n",
    "        # convert ordinals to words\n",
    "        for i in range(chr_lists.shape[0]):\n",
    "            words_list.append(\"\".join(chr_lists[i,:]))\n",
    "        start_time = time.time()\n",
    "        sorted_words_list = alpha_counting_sortC(words_list)\n",
    "        end_time = time.time()\n",
    "        time_.append(end_time - start_time)\n",
    "        time_tot.append(sum(time_))\n",
    "   \n",
    "    # PLOT\n",
    "    fig = plt.figure(figsize=(16,4))\n",
    "    plt.plot(range(10,100000,10000),time_tot)\n",
    "    plt.xlabel('Number of words')\n",
    "    plt.ylabel('Running time (secs)')\n",
    "    plt.title('Running time for fixed word lenght')"
   ]
  },
  {
   "cell_type": "code",
   "execution_count": 101,
   "metadata": {},
   "outputs": [
    {
     "data": {
      "image/png": "[encoded data removed]",
      "text/plain": [
       "<Figure size 1152x288 with 1 Axes>"
      ]
     },
     "metadata": {
      "needs_background": "light"
     },
     "output_type": "display_data"
    }
   ],
   "source": [
    "plot_alpha_sort()"
   ]
  },
  {
   "cell_type": "markdown",
   "metadata": {},
   "source": [
    "##### Attention"
   ]
  },
  {
   "cell_type": "markdown",
   "metadata": {},
   "source": [
    "The last part of this task is based on the algorithm of group # 24, we thank them for the help."
   ]
  },
  {
   "cell_type": "markdown",
   "metadata": {},
   "source": [
    "# 3. Find similar wines!"
   ]
  },
  {
   "cell_type": "markdown",
   "metadata": {},
   "source": [
    "This k-means is implemented by reasoning in terms of products between matrices.\n",
    "\n",
    "Our goal is to create clusters, which will have deviance within (inside groups) and a deviance between (between groups).\n",
    "Therefore, we can minimize deviance within or maximize deviance between.\n",
    "We choose to minimize deviance within because we can set a threshold for which our objective function is satisfied, if it is satisfied it means that the position of the centroids varies little.\n",
    "\n",
    "The objective function will be:\n",
    "\\begin{equation*}\n",
    "minimize ||X-UX^{c}||^{2}\n",
    "\\end{equation*}\n",
    "\n",
    "Where:\n",
    "- X is our data matrix (NxJ)\n",
    "- U is our membership matrix (NxK) that defines where u_{ik} = 1 if the unit i belongs to the class k, u_{ik} = 0 otherwise.\n",
    "-  X^{c} is our centroid matrix (KxJ)"
   ]
  },
  {
   "cell_type": "markdown",
   "metadata": {},
   "source": [
    "### 1. Read and standardize data"
   ]
  },
  {
   "cell_type": "code",
   "execution_count": 3,
   "metadata": {},
   "outputs": [],
   "source": [
    "import numpy as np\n",
    "from numpy import genfromtxt\n",
    "import pandas as pd\n",
    "from random import randrange\n",
    "from scipy import stats\n",
    "import seaborn as sns\n",
    "import matplotlib.pyplot as plt"
   ]
  },
  {
   "cell_type": "markdown",
   "metadata": {},
   "source": [
    "Import data."
   ]
  },
  {
   "cell_type": "code",
   "execution_count": 4,
   "metadata": {},
   "outputs": [],
   "source": [
    "data = pd.DataFrame(genfromtxt(r'C:\\Users\\aless\\Desktop\\data\\wine.data', delimiter=','))\n",
    "data = data.drop(data.columns[[0]], axis='columns')\n",
    "\n",
    "#### datacolumns\n",
    "data.columns = [\n",
    "\n",
    "    'Alcohol',\n",
    "    'Malic acid',\n",
    "    'Ash',\n",
    "    'Alcalinity_of_ash',\n",
    "    'Magnesium',\n",
    "    'Total_phenols',\n",
    "    'Flavanoids',\n",
    "    'Nonflavanoid_phenols',\n",
    "    'Proanthocyanins',\n",
    "    'Color_intensity',\n",
    "    'Hue',\n",
    "    'OD280/OD315_of_diluted_wines',\n",
    "    'Proline']\n",
    "\n"
   ]
  },
  {
   "cell_type": "markdown",
   "metadata": {},
   "source": [
    "Standardize dataframe."
   ]
  },
  {
   "cell_type": "code",
   "execution_count": 5,
   "metadata": {},
   "outputs": [],
   "source": [
    "def diagonalize(su):\n",
    "    '''\n",
    "    Create a matrix with weights on the diagonal.\n",
    "\n",
    "    :param su: diagonal of a matrix\n",
    "    :return: diagonal matrix\n",
    "    '''\n",
    "\n",
    "    Uzero = []\n",
    "    for j in range(0, len(su)):\n",
    "        Uzero.append([0] * len(su))\n",
    "\n",
    "    for j in range(0, len(su)):\n",
    "        Uzero[j][j] = su[j]\n",
    "    Uzero = pd.DataFrame(Uzero)\n",
    "    return Uzero"
   ]
  },
  {
   "cell_type": "code",
   "execution_count": 6,
   "metadata": {},
   "outputs": [
    {
     "name": "stdout",
     "output_type": "stream",
     "text": [
      "       0       1       2       3       4       5       6       7       8   \\\n",
      "0  1.5679 -0.5555  0.2596 -1.1507  1.9358  0.8208  1.0413 -0.6503  1.2337   \n",
      "1  0.2973 -0.4927 -0.8000 -2.4717  0.0405  0.5804  0.7401 -0.8114 -0.5358   \n",
      "2  0.2479  0.0279  1.1366 -0.2500  0.1107  0.8208  1.2220 -0.4891  2.1447   \n",
      "3  1.7406 -0.3401  0.5154 -0.7904  0.9531  2.5032  1.4730 -0.9726  1.0410   \n",
      "4  0.3466  0.2344  1.8674  0.4706  1.3041  0.8208  0.6698  0.2361  0.4103   \n",
      "\n",
      "       9       10      11      12  \n",
      "0  0.2587  0.3754  1.8596  1.0206  \n",
      "1 -0.2863  0.4193  1.1252  0.9728  \n",
      "2  0.2760  0.3316  0.8004  1.4027  \n",
      "3  1.1930 -0.4139  1.1958  2.3421  \n",
      "4 -0.3123  0.3754  0.4614 -0.0303  \n"
     ]
    }
   ],
   "source": [
    "def standardizeDataFrame(data):\n",
    "    u = pd.DataFrame([1]*len(data))\n",
    "    _u = u.transpose()\n",
    "    _dot1 = pd.DataFrame(np.dot(u, _u))\n",
    "    mat = round(pd.DataFrame(np.dot(1/len(data), _dot1)), 4)\n",
    "    #centrature matrix\n",
    "    Jc = np.identity(len(data)) - mat\n",
    "    dot_data = pd.DataFrame(np.dot(Jc, data))\n",
    "    dot_data2 = np.dot(dot_data.transpose(), dot_data)\n",
    "    s_data = round(pd.DataFrame(np.dot(1/len(data), dot_data2)), 4)\n",
    "\n",
    "    diagonal = np.array(np.diag(s_data))\n",
    "    d2 = diagonalize(diagonal)**0.5\n",
    "    d2_inv = pd.DataFrame(np.linalg.pinv(d2.values)) #pseudo inverse\n",
    "\n",
    "    dot1 = pd.DataFrame(np.dot(data, d2_inv))\n",
    "    stand = round(pd.DataFrame(np.dot(Jc, dot1)), 4)\n",
    "    return stand\n",
    "\n",
    " # standardize DataFrame\n",
    "dataS = standardizeDataFrame(data)\n",
    "\n",
    "print(dataS.head())"
   ]
  },
  {
   "cell_type": "markdown",
   "metadata": {},
   "source": [
    "### 2. Choose number of cluster and create them"
   ]
  },
  {
   "cell_type": "markdown",
   "metadata": {},
   "source": [
    "To choose the number of clusters we use Cost (SSE).\n",
    "The formula measures how the clusters are homogeneous internally.\n",
    "You select the number of clusters that (in the graph that will be created) corresponds to the point where there is an 'elbow': in that point the SSE will tend not to decrease more quickly.\n"
   ]
  },
  {
   "cell_type": "markdown",
   "metadata": {},
   "source": [
    "First we can then calculate the K-Means by different number of clusters and see their Cost.\n"
   ]
  },
  {
   "cell_type": "markdown",
   "metadata": {},
   "source": [
    "##### Utils functions"
   ]
  },
  {
   "cell_type": "code",
   "execution_count": 87,
   "metadata": {},
   "outputs": [],
   "source": [
    "def randPU(n, K):\n",
    "    '''\n",
    "    Membership of a unit in a cluster (initialization)\n",
    "\n",
    "\n",
    "    :param n: len(matrix)\n",
    "    :param K: number of cluster\n",
    "    :return: misleading matrix\n",
    "    '''\n",
    "    # all 0 matrix\n",
    "    Uzero = []\n",
    "    for k in range(0, n):\n",
    "        Uzero.append([0] * K)\n",
    "\n",
    "    # random matrix of appartenence\n",
    "    for row in range(0, n):\n",
    "        Uzero[row][randrange(K)] = 1\n",
    "\n",
    "    return Uzero\n",
    "\n",
    "\n",
    "def dwdb(data, U, Xm, K):\n",
    "    u = pd.DataFrame([1] * len(data))\n",
    "    _u = u.transpose()\n",
    "    _dot1 = pd.DataFrame(np.dot(u, _u))\n",
    "    mat = round(pd.DataFrame(np.dot(1 / len(data), _dot1)), 4)\n",
    "    # centrature matrix\n",
    "    Jc = pd.DataFrame(np.identity(len(data)) - mat)\n",
    "\n",
    "    data_c = round(pd.DataFrame(np.dot(Jc, data)), 4)\n",
    "    _Xm = round(pd.DataFrame(np.dot(pd.DataFrame(np.linalg.pinv(U.values)), data)), 4)\n",
    "\n",
    "    #WITHIN\n",
    "    p = data_c - np.dot(U, _Xm)\n",
    "    D_w = np.trace(np.dot(p.transpose(), p))\n",
    "\n",
    "    #BETWEEN\n",
    "    b = np.dot(U, _Xm)\n",
    "    D_b = np.trace(np.dot(b.transpose(), b))\n",
    "    \n",
    "   \n",
    "\n",
    "    return (D_b/(K-1))/(D_w/(len(data)-K))\n",
    "\n",
    "\n",
    "def diagSU(su):\n",
    "    '''\n",
    "    Diagonal matrix of sum_col calculate\n",
    "    \n",
    "    :param su: sum of U_0 columns\n",
    "    :return: diagonal matrix 1/sum_column\n",
    "    '''\n",
    "    Uzero = []\n",
    "    for j in range(0, len(su)):\n",
    "        Uzero.append([0] * len(su))\n",
    "\n",
    "    for j in range(0, len(su)):\n",
    "        Uzero[j][j] = 1 / su[j]\n",
    "\n",
    "    return Uzero\n",
    "\n",
    "def diagonalize(su):\n",
    "    '''\n",
    "\n",
    "    :param su: diagonal of a matrix\n",
    "    :return: diagonal matrix\n",
    "    '''\n",
    "\n",
    "    Uzero = []\n",
    "    for j in range(0, len(su)):\n",
    "        Uzero.append([0] * len(su))\n",
    "\n",
    "    for j in range(0, len(su)):\n",
    "        Uzero[j][j] = su[j]\n",
    "    Uzero = pd.DataFrame(Uzero)\n",
    "    return Uzero\n",
    "\n",
    "def mse(Xrow, Xmean0row1):\n",
    "    min_dif = 0\n",
    "    for r in range(0, len(Xrow)):\n",
    "\n",
    "        min_dif += (Xrow[r] - Xmean0row1[r])**2\n",
    "        \n",
    "    MSE = min_dif/len(Xrow)\n",
    "    return MSE\n",
    "\n",
    "def mse2(Xrow, Xmean0row1):\n",
    "    min_dif = 0\n",
    "    for r in range(0, len(Xrow)):\n",
    "        \n",
    "        min_dif += (Xrow[r] - Xmean0row1[r])**2\n",
    "        \n",
    "    MSE = min_dif/len(Xrow)\n",
    "    return MSE\n",
    "\n",
    "def costf(X, Xmean_ott, U):\n",
    "    cost = 0\n",
    "    for i in range(0, len(X)):\n",
    "        for j in range(0, len(U.iloc[0])):\n",
    "            if U.iloc[i, j] == 1:\n",
    "                cost += mse(X.iloc[i], Xmean_ott.iloc[j])\n",
    "    return cost            "
   ]
  },
  {
   "cell_type": "markdown",
   "metadata": {},
   "source": [
    "#### K-Means Algorithm"
   ]
  },
  {
   "cell_type": "code",
   "execution_count": 165,
   "metadata": {},
   "outputs": [],
   "source": [
    "\n",
    "def kmeans(X, K, Rndstart):\n",
    "    '''\n",
    "\n",
    "    :param X: data Matrix\n",
    "    :param K: Number of cluster of the partition\n",
    "    :param Rndstart: number of random start\n",
    "    :return:\n",
    "    '''\n",
    "\n",
    "    maxiter = 100\n",
    "    n = len(X)\n",
    "    j = len(X.iloc[0])\n",
    "    epsilon = 0.00001\n",
    "\n",
    "    # find the best solution in a fixed number of random start partitions\n",
    "    for loop in range(0, Rndstart):\n",
    "        \n",
    "        # initial partition U_0 is given\n",
    "        U_0 = pd.DataFrame(randPU(n, K))\n",
    "        \n",
    "        # column frequency = random cluster\n",
    "        sum_col = []\n",
    "        for r in range(0, K):\n",
    "            sum_col.append(sum(U_0[r]))\n",
    "        \n",
    "        # 1/su on diagonal of a NxN matrix\n",
    "        su_diag = diagSU(sum_col)\n",
    "\n",
    "        # given U, compute Xmean initial (centroids)\n",
    "        Ut = U_0.transpose()\n",
    "        dot1 = pd.DataFrame(np.dot(su_diag, Ut))\n",
    "\n",
    "        Xmean0 = round(pd.DataFrame(np.dot(dot1, X)), 4)\n",
    "        \n",
    "\n",
    "        U = []\n",
    "        for r in range(0, n):\n",
    "            U.append([0] * K)\n",
    "\n",
    "\n",
    "        for iter in range(1,maxiter):\n",
    "            #given Xmean, assign each units to the closest cluster\n",
    "            \n",
    "                    \n",
    "            \n",
    "            for r in range(0, n):\n",
    "                \n",
    "                min_dif = mse(X.iloc[r], Xmean0.iloc[0])\n",
    "                \n",
    "                posmin = 0\n",
    "                for j in range(1, K):\n",
    "                    dif = mse(X.iloc[r], Xmean0.iloc[j])\n",
    "                    if dif < min_dif:\n",
    "                        min_dif = dif\n",
    "                        posmin = j\n",
    "                U[r][posmin] = 1\n",
    "            \n",
    "            U = pd.DataFrame(U)\n",
    "            \n",
    "\n",
    "            # given a partition of units, so given U, compute Xmean uptaded (centroids)\n",
    "\n",
    "            # update sum_col\n",
    "            sum_col = []\n",
    "            for t in range(0, K):\n",
    "                sum_col.append(sum(U[t]))\n",
    "            \n",
    "            \n",
    "            ## RARE CASE (BUT POSSIBLE) #############################################################\n",
    "            #if there is some empty cluster we must split the cluster with max sum_col\n",
    "            while sum([sum_col[h] == 0 for h in range(0, len(sum_col))]) > 0: # some cluster is empty\n",
    "\n",
    "                p1 = min(sum_col)\n",
    "                p2 = max(sum_col)\n",
    "\n",
    "                # select min column (empty cluster)\n",
    "                for j in range(0, len(sum_col)):\n",
    "                    if p1 == sum_col[j]:\n",
    "                        c1 = j\n",
    "\n",
    "                # select max column (cluster) for split its points to empty cluster\n",
    "                for k in range(0, len(sum_col)):\n",
    "                    if p2 == sum_col[k]:\n",
    "                        c2 = k\n",
    "\n",
    "                # list of units in max column (cluster)\n",
    "                ind = []\n",
    "                for row in range(0, len(U)):\n",
    "                    if int(U.iloc[row, c2]) == 1:\n",
    "                        ind.append(row)\n",
    "\n",
    "                # split max cluster\n",
    "                ind2 = []\n",
    "                for row in range(0, p2//2):\n",
    "                    ind2.append(row)\n",
    "\n",
    "                for row in range(0, len(ind2)):\n",
    "                    U.iloc[row, c1] = 1\n",
    "                    U.iloc[row, c2] = 0\n",
    "\n",
    "                sum_col = []\n",
    "                for q in range(0, K):\n",
    "                    sum_col.append(sum(U[q]))\n",
    "            #################################################################################################\n",
    "            \n",
    "            # give U compute centroids\n",
    "            _U = U.transpose()\n",
    "            _dot1 = pd.DataFrame(np.dot(diagSU(sum_col), _U))\n",
    "            Xmean = round(pd.DataFrame(np.dot(dot1, X)), 4)\n",
    "            \n",
    "\n",
    "            #compute ojective function\n",
    "            BB = (np.dot(U, Xmean)) - X\n",
    "            f = round(np.trace(np.dot(BB.transpose(), BB)), 4)\n",
    "\n",
    "\n",
    "            #stopping rule\n",
    "            dif = 0\n",
    "            \n",
    "            for k in range(0, K):\n",
    "                dif += mse2(Xmean.iloc[k], Xmean0.iloc[k])\n",
    "                    \n",
    "            if dif > epsilon:\n",
    "                Xmean0 = Xmean\n",
    "            else:\n",
    "                break\n",
    "\n",
    "        if loop == 0:\n",
    "            U_ott = U\n",
    "            f_ott = f\n",
    "            Xmean_ott = Xmean\n",
    "\n",
    "        if f < f_ott:\n",
    "            \n",
    "            U_ott = U\n",
    "            f_ott = f\n",
    "            Xmean_ott = Xmean\n",
    "            \n",
    "\n",
    "    # calculate cost\n",
    "    cost = costf(X, Xmean_ott, U_ott)\n",
    "    print('Done')\n",
    "    return round(pd.DataFrame(U_ott), 4), f_ott, cost"
   ]
  },
  {
   "cell_type": "markdown",
   "metadata": {},
   "source": [
    "#### Finally calculate cost for different K-means"
   ]
  },
  {
   "cell_type": "code",
   "execution_count": 183,
   "metadata": {},
   "outputs": [
    {
     "name": "stdout",
     "output_type": "stream",
     "text": [
      "Done\n",
      "Done\n",
      "Done\n",
      "Done\n",
      "Done\n"
     ]
    }
   ],
   "source": [
    "solutions = []\n",
    "for i in range(1, 6):\n",
    "    solutions.append(kmeans(dataS, i, 20))"
   ]
  },
  {
   "cell_type": "code",
   "execution_count": 184,
   "metadata": {},
   "outputs": [
    {
     "name": "stdout",
     "output_type": "stream",
     "text": [
      "[177.92262100461545, 158.59139555769232, 146.41675536538463, 146.09650042923076, 135.10381812615384]\n"
     ]
    }
   ],
   "source": [
    "cost=[]\n",
    "for i in range(0, len(solutions)):\n",
    "    cost.append(solutions[i][2])\n",
    "\n",
    "print(cost)"
   ]
  },
  {
   "cell_type": "code",
   "execution_count": 185,
   "metadata": {},
   "outputs": [
    {
     "data": {
      "image/png": "[encoded data removed]",
      "text/plain": [
       "<Figure size 432x288 with 1 Axes>"
      ]
     },
     "metadata": {},
     "output_type": "display_data"
    }
   ],
   "source": [
    "plt.plot(cost)\n",
    "plt.annotate('Optimal number of clusters',\n",
    "            xy=(2.2, cost[2]))\n",
    "plt.plot(2, cost[2], marker='o', color='r')\n",
    "plt.xlabel('Number of clusters')\n",
    "plt.xticks([0,1,2,3,4], [1,2,3,4,5])\n",
    "plt.show()"
   ]
  },
  {
   "cell_type": "markdown",
   "metadata": {},
   "source": [
    "So the optimal number of clusters is 3 and we can recalculate the clusters more thoroughly."
   ]
  },
  {
   "cell_type": "code",
   "execution_count": 186,
   "metadata": {},
   "outputs": [],
   "source": [
    "cluster = solutions[2]"
   ]
  },
  {
   "cell_type": "markdown",
   "metadata": {},
   "source": [
    "We can see each cluster of what unit is formed.\n"
   ]
  },
  {
   "cell_type": "code",
   "execution_count": 187,
   "metadata": {},
   "outputs": [
    {
     "name": "stdout",
     "output_type": "stream",
     "text": [
      "Cluster 1 \n",
      "     Alcohol  Malic acid   Ash  Alcalinity_of_ash  Magnesium  Total_phenols  \\\n",
      "59    12.37        0.94  1.36               10.6       88.0           1.98   \n",
      "60    12.33        1.10  2.28               16.0      101.0           2.05   \n",
      "62    13.67        1.25  1.92               18.0       94.0           2.10   \n",
      "64    12.17        1.45  2.53               19.0      104.0           1.89   \n",
      "65    12.37        1.21  2.56               18.1       98.0           2.42   \n",
      "\n",
      "    Flavanoids  Nonflavanoid_phenols  Proanthocyanins  Color_intensity   Hue  \\\n",
      "59        0.57                  0.28             0.42             1.95  1.05   \n",
      "60        1.09                  0.63             0.41             3.27  1.25   \n",
      "62        1.79                  0.32             0.73             3.80  1.23   \n",
      "64        1.75                  0.45             1.03             2.95  1.45   \n",
      "65        2.65                  0.37             2.08             4.60  1.19   \n",
      "\n",
      "    OD280/OD315_of_diluted_wines  Proline  \n",
      "59                          1.82    520.0  \n",
      "60                          1.67    680.0  \n",
      "62                          2.46    630.0  \n",
      "64                          2.23    355.0  \n",
      "65                          2.30    678.0   \n",
      "\n",
      "Cluster 2 \n",
      "    Alcohol  Malic acid   Ash  Alcalinity_of_ash  Magnesium  Total_phenols  \\\n",
      "0    14.23        1.71  2.43               15.6      127.0           2.80   \n",
      "1    13.20        1.78  2.14               11.2      100.0           2.65   \n",
      "2    13.16        2.36  2.67               18.6      101.0           2.80   \n",
      "3    14.37        1.95  2.50               16.8      113.0           3.85   \n",
      "4    13.24        2.59  2.87               21.0      118.0           2.80   \n",
      "\n",
      "   Flavanoids  Nonflavanoid_phenols  Proanthocyanins  Color_intensity   Hue  \\\n",
      "0        3.06                  0.28             2.29             5.64  1.04   \n",
      "1        2.76                  0.26             1.28             4.38  1.05   \n",
      "2        3.24                  0.30             2.81             5.68  1.03   \n",
      "3        3.49                  0.24             2.18             7.80  0.86   \n",
      "4        2.69                  0.39             1.82             4.32  1.04   \n",
      "\n",
      "   OD280/OD315_of_diluted_wines  Proline  \n",
      "0                          3.92   1065.0  \n",
      "1                          3.40   1050.0  \n",
      "2                          3.17   1185.0  \n",
      "3                          3.45   1480.0  \n",
      "4                          2.93    735.0   \n",
      "\n",
      "Cluster 3 \n",
      "     Alcohol  Malic acid   Ash  Alcalinity_of_ash  Magnesium  Total_phenols  \\\n",
      "61    12.64        1.36  2.02               16.8      100.0           2.02   \n",
      "70    12.29        1.61  2.21               20.4      103.0           1.10   \n",
      "77    11.84        2.89  2.23               18.0      112.0           1.72   \n",
      "83    13.05        3.86  2.32               22.5       85.0           1.65   \n",
      "92    12.69        1.53  2.26               20.7       80.0           1.38   \n",
      "\n",
      "    Flavanoids  Nonflavanoid_phenols  Proanthocyanins  Color_intensity    Hue  \\\n",
      "61        1.41                  0.53             0.62             5.75  0.980   \n",
      "70        1.02                  0.37             1.46             3.05  0.906   \n",
      "77        1.32                  0.43             0.95             2.65  0.960   \n",
      "83        1.59                  0.61             1.62             4.80  0.840   \n",
      "92        1.46                  0.58             1.62             3.05  0.960   \n",
      "\n",
      "    OD280/OD315_of_diluted_wines  Proline  \n",
      "61                          1.59    450.0  \n",
      "70                          1.82    870.0  \n",
      "77                          2.52    500.0  \n",
      "83                          2.01    515.0  \n",
      "92                          2.06    495.0   \n",
      "\n"
     ]
    }
   ],
   "source": [
    "def clusterization(cluster, data):\n",
    "    c1 = []\n",
    "    c2 = []\n",
    "    c3 = []\n",
    "    for i in range(0, len(data)):\n",
    "        if cluster[0].iloc[i][0] == 1:\n",
    "            c1.append(data.iloc[i])\n",
    "        if cluster[0].iloc[i][1] == 1:\n",
    "            c2.append(data.iloc[i])\n",
    "        if cluster[0].iloc[i][2] == 1:\n",
    "            c3.append(data.iloc[i])\n",
    "\n",
    "    c1 = pd.DataFrame(c1)\n",
    "    c2 = pd.DataFrame(c2)\n",
    "    c3 = pd.DataFrame(c3)\n",
    "    return c1, c2, c3\n",
    "\n",
    "division = clusterization(cluster, data) \n",
    "#output: pos0=cluster1, pos1=cluster2, pos2=cluster3\n",
    "\n",
    "for i in range(0, len(division)):\n",
    "    print('Cluster', i+1 ,'\\n',division[i].head(), '\\n')"
   ]
  },
  {
   "cell_type": "markdown",
   "metadata": {},
   "source": [
    "And how many units is formed"
   ]
  },
  {
   "cell_type": "code",
   "execution_count": 188,
   "metadata": {},
   "outputs": [
    {
     "name": "stdout",
     "output_type": "stream",
     "text": [
      "Cluster 1 has 42 units\n",
      "Cluster 2 has 77 units\n",
      "Cluster 3 has 59 units\n"
     ]
    }
   ],
   "source": [
    "for i in range(0, len(division)):\n",
    "    print('Cluster', i+1, 'has', len(division[i]), 'units')"
   ]
  },
  {
   "cell_type": "markdown",
   "metadata": {},
   "source": [
    "The optimal cost is..."
   ]
  },
  {
   "cell_type": "code",
   "execution_count": 189,
   "metadata": {},
   "outputs": [
    {
     "name": "stdout",
     "output_type": "stream",
     "text": [
      "146.41675536538463\n"
     ]
    }
   ],
   "source": [
    "print(cluster[2])"
   ]
  },
  {
   "cell_type": "markdown",
   "metadata": {},
   "source": [
    "### 3. See for which variables the clusters were formed"
   ]
  },
  {
   "cell_type": "markdown",
   "metadata": {},
   "source": [
    "To see which variables contributed most to cluster creation, we can calculate the F-measure for each variable."
   ]
  },
  {
   "cell_type": "code",
   "execution_count": 190,
   "metadata": {},
   "outputs": [],
   "source": [
    "def f_variables(X, U):\n",
    "    U_inv = pd.DataFrame(np.linalg.pinv(U.values))\n",
    "\n",
    "    fm = []\n",
    "    for var in range(0, len(X.iloc[0])):\n",
    "        z_vars = stats.zscore(X.iloc[:, var])\n",
    "        Xm = np.dot(U_inv, z_vars)\n",
    "        Db = np.dot(np.dot(Xm.transpose(), U.transpose()), np.dot(U, Xm))\n",
    "        Dw = np.dot((z_vars - (np.dot(U, Xm))).transpose(), (z_vars - np.dot(U, Xm)))\n",
    "        fm.append( (Db/(len(U.iloc[0]) - 1)) / (Dw/(len(X) - len(U.iloc[0]))))\n",
    "\n",
    "    return fm"
   ]
  },
  {
   "cell_type": "code",
   "execution_count": 191,
   "metadata": {},
   "outputs": [
    {
     "name": "stdout",
     "output_type": "stream",
     "text": [
      "[37.535671756790244, 48.61906150085627, 10.975018843280521, 23.722095350076142, 23.189718437470326, 165.63064107501847, 274.4662471518977, 43.40307680974492, 49.52719042101561, 50.805800010795785, 112.06917479642435, 192.6395204288757, 83.2533169337406]\n"
     ]
    }
   ],
   "source": [
    "f_measure_variables = f_variables(data, cluster[0])\n",
    "print(f_measure_variables)"
   ]
  },
  {
   "cell_type": "markdown",
   "metadata": {},
   "source": [
    "We can see that the variables with the highest F-measure are those corresponding to positions 5, 6, 11."
   ]
  },
  {
   "cell_type": "code",
   "execution_count": 192,
   "metadata": {},
   "outputs": [
    {
     "data": {
      "image/png": "[encoded data removed]",
      "text/plain": [
       "<Figure size 432x288 with 2 Axes>"
      ]
     },
     "metadata": {},
     "output_type": "display_data"
    },
    {
     "data": {
      "image/png": "[encoded data removed]",
      "text/plain": [
       "<Figure size 432x288 with 2 Axes>"
      ]
     },
     "metadata": {},
     "output_type": "display_data"
    },
    {
     "data": {
      "image/png": "[encoded data removed]",
      "text/plain": [
       "<Figure size 432x288 with 2 Axes>"
      ]
     },
     "metadata": {},
     "output_type": "display_data"
    }
   ],
   "source": [
    "# TOTAL PHENOLS\n",
    "sns.set(color_codes=True)\n",
    "plt.subplot(121)\n",
    "sns.distplot(data.iloc[:, 5], kde=False);\n",
    "plt.subplot(122)\n",
    "for i in range(0, len(division)):\n",
    "    sns.distplot(division[i].iloc[:, 5], kde=False, bins=10);\n",
    "\n",
    "plt.show()\n",
    "\n",
    "# Flavanoids\n",
    "plt.subplot(121)\n",
    "sns.distplot(data.iloc[:, 6], kde=False);\n",
    "plt.subplot(122)\n",
    "for i in range(0, len(division)):\n",
    "    sns.distplot(division[i].iloc[:, 6], kde=False, bins=10);\n",
    "plt.show()\n",
    "\n",
    "# OD280/OD315_of_diluted_wines\n",
    "plt.subplot(121)\n",
    "sns.distplot(data.iloc[:, 11], kde=False);\n",
    "plt.subplot(122)\n",
    "for i in range(0, len(division)):\n",
    "    sns.distplot(division[i].iloc[:, 11], kde=False, bins=10);\n",
    "\n",
    "plt.show()"
   ]
  },
  {
   "cell_type": "markdown",
   "metadata": {},
   "source": [
    "# 4. K-means can go wrong!"
   ]
  },
  {
   "cell_type": "markdown",
   "metadata": {},
   "source": [
    "K-means is able to find the optimal solution in a few steps, but sometimes it can take the wrong path.\n",
    "The choice of the initial partition can affect the final partition. In other words, the algorithm can be trapped between local minimal.\n",
    "\n",
    "In order not to make this thing happen it is possible to initialize the algorithm in different ways that guarantee us (more or less) an optimal solution or close to it.\n",
    "\n",
    "We can initialize K-means with:\n",
    "- Random Start: the algorithm is repeated with different initial classifications chosen randomly and it is chosen between the final ones, that of minimum deviance (cost);\n",
    "- Rational Choice: maximum distance centroids.\n",
    "\n",
    "We pay attention to rational choice. If we reason on the contrary it means that if we put the centroids all in the central point of the units (or in any case very close to each other), the algorithm could reach a NOT optimal solution.\n",
    "\n",
    "So we can implement a new algorithm to see if our objective function is arbitrarily larger from the cost of the optimal solution, which in our case is about '2000'.\n",
    "\n",
    "Attention: there is no need to perform a random start because the centroids are chosen by us and the value of the objective function will always be the same."
   ]
  },
  {
   "cell_type": "markdown",
   "metadata": {},
   "source": [
    "#### We choose the same number of clusters as in point 3, which is 3.\n"
   ]
  },
  {
   "cell_type": "markdown",
   "metadata": {},
   "source": [
    "We can then implement K-means."
   ]
  },
  {
   "cell_type": "code",
   "execution_count": 8,
   "metadata": {},
   "outputs": [],
   "source": [
    "# WRONG INIZIALIZATION, this assures us that initially the centroids are all in the center.\n",
    "def randPU_wrong2(n, K):\n",
    "    # all 0 matrix\n",
    "    Uzero = []\n",
    "    for k in range(0, n):\n",
    "        Uzero.append([1] * K)\n",
    "\n",
    "    return Uzero\n",
    "\n",
    "# UTILS FUNCTIONS\n",
    "def mse(Xrow, Xmean0row1):\n",
    "    min_dif = 0\n",
    "    for r in range(0, len(Xrow)):\n",
    "\n",
    "        min_dif += (Xrow[r] - Xmean0row1[r])**2\n",
    "        \n",
    "    MSE = min_dif/len(Xrow)\n",
    "    return MSE\n",
    "\n",
    "def mse2(Xrow, Xmean0row1):\n",
    "    min_dif = 0\n",
    "    for r in range(0, len(Xrow)):\n",
    "        \n",
    "        min_dif += (Xrow[r] - Xmean0row1[r])**2\n",
    "        \n",
    "    MSE = min_dif/len(Xrow)\n",
    "    return MSE\n",
    "\n",
    "def costf(X, Xmean_ott, U):\n",
    "    cost = 0\n",
    "    for i in range(0, len(X)):\n",
    "        for j in range(0, len(U.iloc[0])):\n",
    "            if U.iloc[i, j] == 1:\n",
    "                cost += mse(X.iloc[i], Xmean_ott.iloc[j])\n",
    "    return cost            \n",
    "\n",
    "def diagSU(su):\n",
    "    '''\n",
    "\n",
    "    :param su: sum of U_0 columns\n",
    "    :return: diagonal matrix\n",
    "    '''\n",
    "    Uzero = []\n",
    "    for j in range(0, len(su)):\n",
    "        Uzero.append([0] * len(su))\n",
    "\n",
    "    for j in range(0, len(su)):\n",
    "        Uzero[j][j] = 1 / su[j]\n",
    "\n",
    "    return Uzero\n",
    "\n",
    "def diagonalize(su):\n",
    "    '''\n",
    "\n",
    "    :param su: diagonal of a matrix\n",
    "    :return: diagonal matrix\n",
    "    '''\n",
    "\n",
    "    Uzero = []\n",
    "    for j in range(0, len(su)):\n",
    "        Uzero.append([0] * len(su))\n",
    "\n",
    "    for j in range(0, len(su)):\n",
    "        Uzero[j][j] = su[j]\n",
    "    Uzero = pd.DataFrame(Uzero)\n",
    "    return Uzero"
   ]
  },
  {
   "cell_type": "code",
   "execution_count": 12,
   "metadata": {},
   "outputs": [],
   "source": [
    "def kmeans_wrong(X, K, Rndstart):\n",
    "\n",
    "    '''\n",
    "\n",
    "    :param X: data Matrix\n",
    "    :param K: Number of cluster of the partition\n",
    "    :param Rndstart: number of random start\n",
    "    :return:\n",
    "    '''\n",
    "\n",
    "    maxiter = 100\n",
    "    n = len(X)\n",
    "    j = len(X.iloc[0])\n",
    "    epsilon = 0.00001\n",
    "\n",
    "    # find the best solution in a fixed number of random start partitions\n",
    "    for loop in range(0, Rndstart):\n",
    "        \n",
    "        # initial WRONG partition U_0 is given\n",
    "         \n",
    "        U_0 = pd.DataFrame(randPU_wrong2(n, K))\n",
    "        \n",
    "        # column frequency = random cluster\n",
    "        sum_col = []\n",
    "        for r in range(0, K):\n",
    "            sum_col.append(sum(U_0[r]))\n",
    "        \n",
    "        # 1/su on diagonal of a NxN matrix\n",
    "        su_diag = diagSU(sum_col)\n",
    "\n",
    "        # given U compute Xmean (centroids)\n",
    "        Ut = U_0.transpose()\n",
    "        dot1 = pd.DataFrame(np.dot(su_diag, Ut))\n",
    "\n",
    "        Xmean0 = round(pd.DataFrame(np.dot(dot1, X)), 4)\n",
    "       \n",
    "\n",
    "\n",
    "\n",
    "\n",
    "        for iter in range(1,maxiter):\n",
    "            #given Xmean = assign each units to the closest cluster\n",
    "            U = []\n",
    "            for r in range(0, n):\n",
    "                 U.append([0] * K)\n",
    "                    \n",
    "            \n",
    "            for r in range(0, n):\n",
    "                \n",
    "                min_dif = mse(X.iloc[r], Xmean0.iloc[0])\n",
    "                \n",
    "                posmin = 0\n",
    "                for j in range(1, K):\n",
    "                    \n",
    "                    dif = mse(X.iloc[r], Xmean0.iloc[j])\n",
    "                    if dif < min_dif:\n",
    "                        min_dif = dif\n",
    "                        posmin = j\n",
    "                U[r][posmin] = 1\n",
    "            \n",
    "            U = pd.DataFrame(U)\n",
    "            \n",
    "\n",
    "            # given a partition of units, so given U compute Xmean (centroids)\n",
    "\n",
    "            # update sum_col\n",
    "            sum_col = []\n",
    "            for t in range(0, K):\n",
    "                sum_col.append(sum(U[t]))\n",
    "            \n",
    "            \n",
    "            ## RARE CASE (BUT POSSIBLE) #############################################################\n",
    "            #if there is some empty cluster we must split the cluster with max sum_col\n",
    "            while sum([sum_col[h] == 0 for h in range(0, len(sum_col))]) > 0: # some cluster is empty\n",
    "\n",
    "                p1 = min(sum_col)\n",
    "                p2 = max(sum_col)\n",
    "\n",
    "                # select min column (empty cluster)\n",
    "                for j in range(0, len(sum_col)):\n",
    "                    if p1 == sum_col[j]:\n",
    "                        c1 = j\n",
    "\n",
    "                # select max column (cluster) for split its points to empty cluster\n",
    "                for k in range(0, len(sum_col)):\n",
    "                    if p2 == sum_col[k]:\n",
    "                        c2 = k\n",
    "\n",
    "                # list of units in max column (cluster)\n",
    "                ind = []\n",
    "                for row in range(0, len(U)):\n",
    "                    if int(U.iloc[row, c2]) == 1:\n",
    "                        ind.append(row)\n",
    "\n",
    "                # split max cluster\n",
    "                ind2 = []\n",
    "                for row in range(0, p2//2):\n",
    "                    ind2.append(row)\n",
    "\n",
    "                for row in range(0, len(ind2)):\n",
    "                    U.iloc[row, c1] = 1\n",
    "                    U.iloc[row, c2] = 0\n",
    "\n",
    "                sum_col = []\n",
    "                for q in range(0, K):\n",
    "                    sum_col.append(sum(U[q]))\n",
    "            #################################################################################################\n",
    "            \n",
    "            # give U compute centroids\n",
    "            _U = U.transpose()\n",
    "            _dot1 = pd.DataFrame(np.dot(diagSU(sum_col), _U))\n",
    "            Xmean = round(pd.DataFrame(np.dot(dot1, X)), 4)\n",
    "            \n",
    "\n",
    "            #compute ojective function\n",
    "            BB = (np.dot(U, Xmean)) - X\n",
    "            f = round(np.trace(np.dot(BB.transpose(), BB)), 4)\n",
    "\n",
    "\n",
    "            #stopping rule\n",
    "            dif = 0\n",
    "            \n",
    "            for k in range(0, K):\n",
    "                dif += mse2(Xmean.iloc[k], Xmean0.iloc[k])\n",
    "                    \n",
    "            if dif > epsilon:\n",
    "                Xmean0 = Xmean\n",
    "            else:\n",
    "                break\n",
    "\n",
    "        if loop == 0:\n",
    "            U_ott = U\n",
    "            f_ott = f\n",
    "            Xmean_ott = Xmean\n",
    "\n",
    "        if f < f_ott:\n",
    "            \n",
    "            U_ott = U\n",
    "            f_ott = f\n",
    "            Xmean_ott = Xmean\n",
    "\n",
    "    # calculate cost\n",
    "    cost = costf(X, Xmean_ott, U_ott)\n",
    "    print('Done')\n",
    "    return round(pd.DataFrame(U_ott), 4), f_ott, cost"
   ]
  },
  {
   "cell_type": "code",
   "execution_count": 13,
   "metadata": {},
   "outputs": [
    {
     "name": "stdout",
     "output_type": "stream",
     "text": [
      "Done\n"
     ]
    }
   ],
   "source": [
    "kluster = kmeans_wrong(dataS, 3, 1)"
   ]
  },
  {
   "cell_type": "code",
   "execution_count": 14,
   "metadata": {},
   "outputs": [
    {
     "name": "stdout",
     "output_type": "stream",
     "text": [
      "Our objective function has value:  177.92262100461545\n"
     ]
    }
   ],
   "source": [
    "print('Our objective function has value: ', kluster[2])"
   ]
  },
  {
   "cell_type": "markdown",
   "metadata": {},
   "source": [
    "#### Conclusion"
   ]
  },
  {
   "cell_type": "markdown",
   "metadata": {},
   "source": [
    "The objective function in the case of incorrect initialization of the algorithm has a greater value than our optimal solution (about 30 more!).\n",
    "So we can say that K-means is conditioned by the choice of initial centroids."
   ]
  }
 ],
 "metadata": {
  "kernelspec": {
   "display_name": "Python 3",
   "language": "python",
   "name": "python3"
  },
  "language_info": {
   "codemirror_mode": {
    "name": "ipython",
    "version": 3
   },
   "file_extension": ".py",
   "mimetype": "text/x-python",
   "name": "python",
   "nbconvert_exporter": "python",
   "pygments_lexer": "ipython3",
   "version": "3.7.3"
  }
 },
 "nbformat": 4,
 "nbformat_minor": 2
}
